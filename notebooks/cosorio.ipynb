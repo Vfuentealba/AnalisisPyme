{
 "cells": [
  {
   "cell_type": "code",
   "execution_count": null,
   "id": "be725e8e",
   "metadata": {},
   "outputs": [],
   "source": [
    "print(\"Hola\")"
   ]
  }
 ],
 "metadata": {
  "language_info": {
   "name": "python"
  }
 },
 "nbformat": 4,
 "nbformat_minor": 5
}
